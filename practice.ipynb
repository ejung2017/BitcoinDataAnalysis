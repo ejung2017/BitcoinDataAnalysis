{
 "cells": [
  {
   "cell_type": "code",
   "execution_count": null,
   "id": "fc715958-f1de-4199-8aec-5cc98922f36c",
   "metadata": {},
   "outputs": [],
   "source": [
    "import numpy as np \n",
    "import pandas as pd \n",
    "import matplotlib.pyplot as plt\n",
    "import seaborn as sns"
   ]
  },
  {
   "cell_type": "code",
   "execution_count": null,
   "id": "89fcc84c-f5df-4cac-ad6a-06481aa749ca",
   "metadata": {},
   "outputs": [],
   "source": [
    "df = pd.read_csv('/Users/eunahjung/Documents/BitcoinDataAnalysis/bitcoin_price_Training-Training.csv')"
   ]
  },
  {
   "cell_type": "code",
   "execution_count": null,
   "id": "03c1105b-51d4-460f-bd77-b9d0f3daa88c",
   "metadata": {},
   "outputs": [],
   "source": [
    "df.head(3)"
   ]
  },
  {
   "cell_type": "code",
   "execution_count": null,
   "id": "8b0fa32e-a182-4d82-819f-1fae9da08968",
   "metadata": {},
   "outputs": [],
   "source": [
    "df.describe().T #transpose"
   ]
  },
  {
   "cell_type": "code",
   "execution_count": null,
   "id": "7c9a85ff-34df-4768-9ed9-f836ba11c617",
   "metadata": {},
   "outputs": [],
   "source": [
    "df.describe()"
   ]
  },
  {
   "cell_type": "code",
   "execution_count": null,
   "id": "678815fa-a699-4927-9375-f6c0f5ddad23",
   "metadata": {},
   "outputs": [],
   "source": [
    "df.info()"
   ]
  },
  {
   "cell_type": "code",
   "execution_count": null,
   "id": "9a754562-c864-4fd3-8618-da8b38283117",
   "metadata": {},
   "outputs": [],
   "source": [
    "data = df.sort_index(ascending=False).reset_index()"
   ]
  },
  {
   "cell_type": "code",
   "execution_count": null,
   "id": "4799f8a5-49e2-43ac-85b8-695a57fd07da",
   "metadata": {},
   "outputs": [],
   "source": [
    "data.drop('index', axis=1, inplace=True)"
   ]
  },
  {
   "cell_type": "code",
   "execution_count": null,
   "id": "d2d4dea8-6e72-423e-942c-b96ab6913bf9",
   "metadata": {},
   "outputs": [],
   "source": [
    "data"
   ]
  },
  {
   "cell_type": "code",
   "execution_count": null,
   "id": "bd40d08a-0647-4453-9af0-2ac327a5691e",
   "metadata": {},
   "outputs": [],
   "source": [
    "data.columns"
   ]
  },
  {
   "cell_type": "code",
   "execution_count": null,
   "id": "5ddac1e2-4f65-4ffd-9c23-eb4b92ded0b9",
   "metadata": {},
   "outputs": [],
   "source": [
    "plt.figure(figsize=(20,12))\n",
    "\n",
    "for index, col in enumerate(['Open', 'High', 'Low', 'Close'], 1): \n",
    "    plt.subplot(2,2,index)\n",
    "    plt.plot(df['Date'], df[col])\n",
    "    plt.title(col)\n",
    "    "
   ]
  },
  {
   "cell_type": "code",
   "execution_count": null,
   "id": "f1d7af6e-a85d-4301-8de3-cf9e95078313",
   "metadata": {},
   "outputs": [],
   "source": []
  },
  {
   "cell_type": "code",
   "execution_count": null,
   "id": "b0ac68b9-6bec-47ee-a68c-882e92d0185e",
   "metadata": {},
   "outputs": [],
   "source": []
  }
 ],
 "metadata": {
  "kernelspec": {
   "display_name": "Python 3 (ipykernel)",
   "language": "python",
   "name": "python3"
  },
  "language_info": {
   "codemirror_mode": {
    "name": "ipython",
    "version": 3
   },
   "file_extension": ".py",
   "mimetype": "text/x-python",
   "name": "python",
   "nbconvert_exporter": "python",
   "pygments_lexer": "ipython3",
   "version": "3.12.7"
  }
 },
 "nbformat": 4,
 "nbformat_minor": 5
}
